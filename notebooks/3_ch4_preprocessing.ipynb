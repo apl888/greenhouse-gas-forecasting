{
 "cells": [
  {
   "cell_type": "markdown",
   "id": "222d60ef-00f5-4fbf-968a-a4477eee91d3",
   "metadata": {},
   "source": [
    "# CH4 Time Series Preprocessing  \n",
    "**Purpose**: Prepare methane (CH4) data for forecasting using `GasPreprocessor`  \n",
    "\n",
    "## Workflow  \n",
    "1. Load cleaned GHG data  \n",
    "2. Initialize preprocessor  \n",
    "3. Fit/transform CH4 series  \n",
    "4. Save processed data  \n",
    "\n",
    "**Input**: `data/processed/all_ghg_aligned_nan.csv`  \n",
    "**Output**: `data/processed/ch4_preprocessed.csv`  \n",
    "\n",
    "[View GasPreprocessor docs](../src/preprocessing.py)  \n",
    "\n",
    "**Note**: The identical preprocessing will be reapplied to the training set in `4_ch4_modeling.ipynb`  \n",
    "to avoid data leakage. This full-dataset version is for exploratory purposes only."
   ]
  },
  {
   "cell_type": "code",
   "execution_count": 1,
   "id": "0e63c49a-8ed1-4c01-a6ff-44f6d84152f8",
   "metadata": {},
   "outputs": [],
   "source": [
    "# enable auto-reloading of imported modules\n",
    "%load_ext autoreload\n",
    "%autoreload 2\n",
    "\n",
    "# ensure src/imports work\n",
    "import sys\n",
    "sys.path.append('../')"
   ]
  },
  {
   "cell_type": "markdown",
   "id": "c8e60c5e-92ec-4d5d-b4d0-d260df675c5e",
   "metadata": {},
   "source": [
    "# Libraries"
   ]
  },
  {
   "cell_type": "code",
   "execution_count": 2,
   "id": "4679fde7-35ae-4f83-8e57-1ae2d7baf391",
   "metadata": {},
   "outputs": [
    {
     "name": "stdout",
     "output_type": "stream",
     "text": [
      "GasPreprocessor imported sucessfully!\n"
     ]
    }
   ],
   "source": [
    "import numpy as np\n",
    "import matplotlib.pyplot as plt\n",
    "import pandas as pd\n",
    "\n",
    "from src.preprocessing import GasPreprocessor\n",
    "print('GasPreprocessor imported sucessfully!')"
   ]
  },
  {
   "cell_type": "markdown",
   "id": "c0db5e89-4298-4d72-a685-48fbb45c07b4",
   "metadata": {},
   "source": [
    "# Load datasets"
   ]
  },
  {
   "cell_type": "code",
   "execution_count": 3,
   "id": "4f66eab9-ff1a-4e99-8461-a8f1629fe38f",
   "metadata": {},
   "outputs": [
    {
     "name": "stdout",
     "output_type": "stream",
     "text": [
      "loaded 2562 records\n"
     ]
    },
    {
     "data": {
      "text/html": [
       "<div>\n",
       "<style scoped>\n",
       "    .dataframe tbody tr th:only-of-type {\n",
       "        vertical-align: middle;\n",
       "    }\n",
       "\n",
       "    .dataframe tbody tr th {\n",
       "        vertical-align: top;\n",
       "    }\n",
       "\n",
       "    .dataframe thead th {\n",
       "        text-align: right;\n",
       "    }\n",
       "</style>\n",
       "<table border=\"1\" class=\"dataframe\">\n",
       "  <thead>\n",
       "    <tr style=\"text-align: right;\">\n",
       "      <th></th>\n",
       "      <th>date</th>\n",
       "      <th>CH4</th>\n",
       "      <th>CO</th>\n",
       "      <th>CO2</th>\n",
       "      <th>H2</th>\n",
       "      <th>N2O</th>\n",
       "      <th>SF6</th>\n",
       "    </tr>\n",
       "  </thead>\n",
       "  <tbody>\n",
       "    <tr>\n",
       "      <th>0</th>\n",
       "      <td>1969-08-20</td>\n",
       "      <td>NaN</td>\n",
       "      <td>NaN</td>\n",
       "      <td>NaN</td>\n",
       "      <td>NaN</td>\n",
       "      <td>NaN</td>\n",
       "      <td>NaN</td>\n",
       "    </tr>\n",
       "    <tr>\n",
       "      <th>1</th>\n",
       "      <td>1969-08-27</td>\n",
       "      <td>NaN</td>\n",
       "      <td>NaN</td>\n",
       "      <td>NaN</td>\n",
       "      <td>NaN</td>\n",
       "      <td>NaN</td>\n",
       "      <td>NaN</td>\n",
       "    </tr>\n",
       "    <tr>\n",
       "      <th>2</th>\n",
       "      <td>1969-09-02</td>\n",
       "      <td>NaN</td>\n",
       "      <td>NaN</td>\n",
       "      <td>NaN</td>\n",
       "      <td>NaN</td>\n",
       "      <td>NaN</td>\n",
       "      <td>NaN</td>\n",
       "    </tr>\n",
       "    <tr>\n",
       "      <th>3</th>\n",
       "      <td>1969-09-12</td>\n",
       "      <td>NaN</td>\n",
       "      <td>NaN</td>\n",
       "      <td>320.945</td>\n",
       "      <td>NaN</td>\n",
       "      <td>NaN</td>\n",
       "      <td>NaN</td>\n",
       "    </tr>\n",
       "    <tr>\n",
       "      <th>4</th>\n",
       "      <td>1969-09-24</td>\n",
       "      <td>NaN</td>\n",
       "      <td>NaN</td>\n",
       "      <td>320.890</td>\n",
       "      <td>NaN</td>\n",
       "      <td>NaN</td>\n",
       "      <td>NaN</td>\n",
       "    </tr>\n",
       "  </tbody>\n",
       "</table>\n",
       "</div>"
      ],
      "text/plain": [
       "        date  CH4  CO      CO2  H2  N2O  SF6\n",
       "0 1969-08-20  NaN NaN      NaN NaN  NaN  NaN\n",
       "1 1969-08-27  NaN NaN      NaN NaN  NaN  NaN\n",
       "2 1969-09-02  NaN NaN      NaN NaN  NaN  NaN\n",
       "3 1969-09-12  NaN NaN  320.945 NaN  NaN  NaN\n",
       "4 1969-09-24  NaN NaN  320.890 NaN  NaN  NaN"
      ]
     },
     "metadata": {},
     "output_type": "display_data"
    }
   ],
   "source": [
    "# load cleaned data (with negative values --> NaN)\n",
    "df = pd.read_csv(\n",
    "    '../data/processed/all_ghg_aligned_nan.csv',\n",
    "    parse_dates=['date'],\n",
    "    dtype={'CH4': float}\n",
    ")\n",
    "\n",
    "print(f'loaded {len(df)} records')\n",
    "display(df.head())"
   ]
  },
  {
   "cell_type": "markdown",
   "id": "81706c3a-4505-4714-8dbf-d58d07ce8bea",
   "metadata": {},
   "source": [
    "# Initialize Preprocessor class"
   ]
  },
  {
   "cell_type": "code",
   "execution_count": 4,
   "id": "8ce459b4-2007-4465-a629-94e728e5b7dc",
   "metadata": {},
   "outputs": [],
   "source": [
    "# configure for weekly CH4 data with yearly seasonality\n",
    "preprocessor = GasPreprocessor(\n",
    "    gas_name='CH4',\n",
    "    do_eda=True\n",
    ")"
   ]
  },
  {
   "cell_type": "markdown",
   "id": "9240c086-f96e-4ebd-a1a5-d93df8d2bd8e",
   "metadata": {},
   "source": [
    "## CH4 Preprocessing and EDA"
   ]
  },
  {
   "cell_type": "code",
   "execution_count": 5,
   "id": "0f70638b-93f0-42bb-af5b-75e433b4f123",
   "metadata": {},
   "outputs": [
    {
     "ename": "UnboundLocalError",
     "evalue": "cannot access local variable 'raw_series' where it is not associated with a value",
     "output_type": "error",
     "traceback": [
      "\u001b[1;31m---------------------------------------------------------------------------\u001b[0m",
      "\u001b[1;31mUnboundLocalError\u001b[0m                         Traceback (most recent call last)",
      "Cell \u001b[1;32mIn[5], line 5\u001b[0m\n\u001b[0;32m      1\u001b[0m \u001b[38;5;66;03m# CH4_preprocessor = GasPreprocessor(gas_name='CH4', do_eda=True)\u001b[39;00m\n\u001b[0;32m      2\u001b[0m \u001b[38;5;66;03m# CH4_preprocessed = CH4_preprocessor.fit_transform(df_combined)\u001b[39;00m\n\u001b[0;32m      3\u001b[0m \n\u001b[0;32m      4\u001b[0m \u001b[38;5;66;03m# Run full preprocessing pipeline\u001b[39;00m\n\u001b[1;32m----> 5\u001b[0m ch4_preprocessed \u001b[38;5;241m=\u001b[39m preprocessor\u001b[38;5;241m.\u001b[39mfit_transform(\n\u001b[0;32m      6\u001b[0m     df[[\u001b[38;5;124m'\u001b[39m\u001b[38;5;124mdate\u001b[39m\u001b[38;5;124m'\u001b[39m, \u001b[38;5;124m'\u001b[39m\u001b[38;5;124mCH4\u001b[39m\u001b[38;5;124m'\u001b[39m]],\n\u001b[0;32m      7\u001b[0m     custom_title\u001b[38;5;241m=\u001b[39m\u001b[38;5;124m'\u001b[39m\u001b[38;5;124mCH4 Time Series: Raw Data vs Smoothed, Resampled, & Interpolated\u001b[39m\u001b[38;5;124m'\u001b[39m)\n\u001b[0;32m      9\u001b[0m \u001b[38;5;66;03m# Show results\u001b[39;00m\n\u001b[0;32m     10\u001b[0m display(ch4_preprocessed\u001b[38;5;241m.\u001b[39mhead())\n",
      "File \u001b[1;32m~\\Documents\\GitHub\\greenhouse-gas-forecasting\\notebooks\\..\\src\\preprocessing.py:328\u001b[0m, in \u001b[0;36mGasPreprocessor.fit_transform\u001b[1;34m(self, df, custom_title)\u001b[0m\n\u001b[0;32m    318\u001b[0m \u001b[38;5;28;01mdef\u001b[39;00m \u001b[38;5;21mfit_transform\u001b[39m(\u001b[38;5;28mself\u001b[39m, df, custom_title\u001b[38;5;241m=\u001b[39m\u001b[38;5;28;01mNone\u001b[39;00m):\n\u001b[0;32m    319\u001b[0m \u001b[38;5;250m    \u001b[39m\u001b[38;5;124;03m'''\u001b[39;00m\n\u001b[0;32m    320\u001b[0m \u001b[38;5;124;03m    Fits the preprocessor on the input DataFrame and returns the transformed series.\u001b[39;00m\n\u001b[0;32m    321\u001b[0m \n\u001b[1;32m   (...)\u001b[0m\n\u001b[0;32m    326\u001b[0m \u001b[38;5;124;03m    pd.Series: Transformed gas time series.\u001b[39;00m\n\u001b[0;32m    327\u001b[0m \u001b[38;5;124;03m    '''\u001b[39;00m\n\u001b[1;32m--> 328\u001b[0m     \u001b[38;5;28mself\u001b[39m\u001b[38;5;241m.\u001b[39mfit(df, custom_title\u001b[38;5;241m=\u001b[39mcustom_title)  \n\u001b[0;32m    329\u001b[0m     \u001b[38;5;28;01mreturn\u001b[39;00m \u001b[38;5;28mself\u001b[39m\u001b[38;5;241m.\u001b[39mtransform(df, custom_title\u001b[38;5;241m=\u001b[39mcustom_title)\n",
      "File \u001b[1;32m~\\Documents\\GitHub\\greenhouse-gas-forecasting\\notebooks\\..\\src\\preprocessing.py:208\u001b[0m, in \u001b[0;36mGasPreprocessor.fit\u001b[1;34m(self, df, custom_title)\u001b[0m\n\u001b[0;32m    206\u001b[0m \u001b[38;5;28;01mdef\u001b[39;00m \u001b[38;5;21mfit\u001b[39m(\u001b[38;5;28mself\u001b[39m, df, custom_title\u001b[38;5;241m=\u001b[39m\u001b[38;5;28;01mNone\u001b[39;00m):\n\u001b[0;32m    207\u001b[0m     \u001b[38;5;66;03m# ensure that negative values have been converted to NaN\u001b[39;00m\n\u001b[1;32m--> 208\u001b[0m     negative_mask \u001b[38;5;241m=\u001b[39m raw_series \u001b[38;5;241m<\u001b[39m \u001b[38;5;241m0\u001b[39m\n\u001b[0;32m    209\u001b[0m     \u001b[38;5;28;01mif\u001b[39;00m negative_mask\u001b[38;5;241m.\u001b[39many():\n\u001b[0;32m    210\u001b[0m         \u001b[38;5;28mprint\u001b[39m(\u001b[38;5;124mf\u001b[39m\u001b[38;5;124m'\u001b[39m\u001b[38;5;124mWarning: \u001b[39m\u001b[38;5;132;01m{\u001b[39;00mnegative_mask\u001b[38;5;241m.\u001b[39msum()\u001b[38;5;132;01m}\u001b[39;00m\u001b[38;5;124m negative values found in \u001b[39m\u001b[38;5;132;01m{\u001b[39;00m\u001b[38;5;28mself\u001b[39m\u001b[38;5;241m.\u001b[39mgas_name\u001b[38;5;132;01m}\u001b[39;00m\u001b[38;5;124m series. Converting to NaN.\u001b[39m\u001b[38;5;124m'\u001b[39m)\n",
      "\u001b[1;31mUnboundLocalError\u001b[0m: cannot access local variable 'raw_series' where it is not associated with a value"
     ]
    }
   ],
   "source": [
    "# CH4_preprocessor = GasPreprocessor(gas_name='CH4', do_eda=True)\n",
    "# CH4_preprocessed = CH4_preprocessor.fit_transform(df_combined)\n",
    "\n",
    "# Run full preprocessing pipeline\n",
    "ch4_preprocessed = preprocessor.fit_transform(\n",
    "    df[['date', 'CH4']],\n",
    "    custom_title='CH4 Time Series: Raw Data vs Smoothed, Resampled, & Interpolated')\n",
    "\n",
    "# Show results\n",
    "display(ch4_preprocessed.head())\n",
    "plt.show()"
   ]
  },
  {
   "cell_type": "markdown",
   "id": "6fab81a5-fdef-466b-a272-ac697bdf8602",
   "metadata": {},
   "source": [
    "## CH4 Preprocessing Results Summary\n",
    "\n",
    "### **Stationarity Analysis**\n",
    "All processing stages (raw --> smoothed --> resampled) show consistent non-stationarity:\n",
    "- **ADF Test**: Fails to reject H0 (p > 0.05)  \n",
    "- **KPSS Test**: Rejects H0 (p < 0.05)  \n",
    "*Interpretation*: Strong trend dominance persists through preprocessing.\n",
    "\n",
    "### **STL Decomposition Insights**\n",
    "| Component | Characteristics | Stationarity |\n",
    "|-----------|----------------|-------------|\n",
    "| **Trend** | Smooth monotonic increase | Non-stationary |\n",
    "| **Seasonal** | ~1-year cycles (constant amplitude) | Stationary |\n",
    "| **Residuals** | Mean-zero but heteroscedastic | Conditionally stationary |\n",
    "\n",
    "**Model Type**: Additive (`Y = Trend + Seasonal + Residuals`)\n",
    "\n",
    "### **Autocorrelation Diagnostics**\n",
    "- **ACF of Residuals**:  \n",
    "  - Slow decay --> AR signature  \n",
    "  - Significant lags at 1-5 (suggest MA(5))  \n",
    "  - Spike at lag 52 --> Residual seasonality  \n",
    "- **PACF of Residuals**:  \n",
    "  - Sharp cutoff after lag 1 --> AR(1) dominant  \n",
    "  - Marginal significance up to lag 8  \n",
    "\n",
    "### **Key Implications for Modeling**\n",
    "1. Required transformations:  \n",
    "   - **Differencing**: 1st order to address trend  \n",
    "   - **Seasonal adjustment**: Consider SARIMA terms  \n",
    "2. Residual patterns suggest:  \n",
    "   - ARIMA(1,1,5) as starting point  \n",
    "   - Seasonal periodicity: 52 weeks  \n",
    "3. Heteroscedasticity may require:  \n",
    "   - Log transformation or ARCH/GARCH"
   ]
  },
  {
   "cell_type": "markdown",
   "id": "637fbf0c-4e20-4161-9aa1-ec8ee814394c",
   "metadata": {},
   "source": [
    "# Save Preprocessed CH4 Data"
   ]
  },
  {
   "cell_type": "code",
   "execution_count": null,
   "id": "fc718186",
   "metadata": {},
   "outputs": [],
   "source": [
    "from pathlib import Path\n",
    "\n",
    "# define output path\n",
    "output_dir = Path('../data/processed')\n",
    "output_dir.mkdir(exist_ok=True, parents=True)\n",
    "\n",
    "# save metadata\n",
    "output_path = output_dir / 'ch4_preprocessed.csv'\n",
    "(\n",
    "    ch4_preprocessed\n",
    "    .reset_index() # convert DateTimeIndex to columns\n",
    "    .rename(columns={'index': 'date', 0: 'ch4_ppb'})\n",
    "    .to_csv(output_path, index=False)\n",
    ")\n",
    "\n",
    "print(f'CH4 preprocessed data saved to:\\n{output_path}')\n",
    "print(f'Shape: {ch4_preprocessed.shape}\\nLast 5 records:')\n",
    "display(ch4_preprocessed.tail())"
   ]
  },
  {
   "cell_type": "code",
   "execution_count": null,
   "id": "ae95c552-5ba7-43ab-9351-9a2403b988f9",
   "metadata": {},
   "outputs": [],
   "source": []
  }
 ],
 "metadata": {
  "kernelspec": {
   "display_name": "Python 3 (ipykernel)",
   "language": "python",
   "name": "python3"
  },
  "language_info": {
   "codemirror_mode": {
    "name": "ipython",
    "version": 3
   },
   "file_extension": ".py",
   "mimetype": "text/x-python",
   "name": "python",
   "nbconvert_exporter": "python",
   "pygments_lexer": "ipython3",
   "version": "3.12.3"
  }
 },
 "nbformat": 4,
 "nbformat_minor": 5
}
