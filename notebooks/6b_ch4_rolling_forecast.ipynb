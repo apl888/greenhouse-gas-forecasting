{
 "cells": [
  {
   "cell_type": "markdown",
   "id": "67a0fdf7-5bc7-439b-8c78-25730743cec2",
   "metadata": {},
   "source": [
    "# CH4 Time Series Forecasting\n",
    "**Objective**: forecast future atmospheric methane concentration\n",
    "\n",
    "## Input Data\n",
    "- 'data/processed/ch4_preprocessed.csv'\n",
    "- 'data/processed/ch4_preprocessed_logged.csv'\n",
    "\n",
    "## Model Configuration\n",
    "- 'results/CH4_full_dataset_best_model_config.json'\n",
    "\n",
    "## Stages\n",
    "1. Load the input data\n",
    "2. load saved model configuration\n",
    "3. log input data\n",
    "4. re-fit model with saved parameters\n",
    "5. rolling forecast future CH4 atmospheric concentration"
   ]
  },
  {
   "cell_type": "markdown",
   "id": "c8e60c5e-92ec-4d5d-b4d0-d260df675c5e",
   "metadata": {},
   "source": [
    "# Libraries"
   ]
  },
  {
   "cell_type": "code",
   "execution_count": 1,
   "id": "4679fde7-35ae-4f83-8e57-1ae2d7baf391",
   "metadata": {},
   "outputs": [],
   "source": [
    "import numpy as np\n",
    "import matplotlib.pyplot as plt\n",
    "import pandas as pd\n",
    "from statsmodels.tsa.statespace.sarimax import SARIMAX, SARIMAXResults"
   ]
  },
  {
   "cell_type": "markdown",
   "id": "2a6e429c-8aaa-4090-8438-b126d4908127",
   "metadata": {},
   "source": [
    "# Load the Data"
   ]
  },
  {
   "cell_type": "code",
   "execution_count": 2,
   "id": "e219d13d-3b57-4c17-94ca-9426e5ab9b7c",
   "metadata": {},
   "outputs": [],
   "source": [
    "# load the preprocessed train and test data (from ../data/processed/), and explicity set the frequency\n",
    "CH4_preprocessed = pd.read_csv(\n",
    "    '../data/processed/ch4_preprocessed.csv',\n",
    "    parse_dates=['date'], \n",
    "    index_col='date'\n",
    ")\n",
    "\n",
    "CH4_preprocessed.index = pd.DatetimeIndex(CH4_preprocessed.index, freq='W-SUN')\n",
    "\n",
    "CH4_preprocessed_logged = pd.read_csv(\n",
    "    '../data/processed/ch4_preprocessed_logged.csv',\n",
    "    parse_dates=['date'],\n",
    "    index_col='date'\n",
    ")\n",
    "\n",
    "CH4_preprocessed_logged.index = pd.DatetimeIndex(CH4_preprocessed.index, freq='W-SUN')"
   ]
  },
  {
   "cell_type": "code",
   "execution_count": 3,
   "id": "4ab64364-0e1d-4cf1-a3f9-642c3b20fca5",
   "metadata": {},
   "outputs": [
    {
     "data": {
      "text/html": [
       "<div>\n",
       "<style scoped>\n",
       "    .dataframe tbody tr th:only-of-type {\n",
       "        vertical-align: middle;\n",
       "    }\n",
       "\n",
       "    .dataframe tbody tr th {\n",
       "        vertical-align: top;\n",
       "    }\n",
       "\n",
       "    .dataframe thead th {\n",
       "        text-align: right;\n",
       "    }\n",
       "</style>\n",
       "<table border=\"1\" class=\"dataframe\">\n",
       "  <thead>\n",
       "    <tr style=\"text-align: right;\">\n",
       "      <th></th>\n",
       "      <th>CH4</th>\n",
       "    </tr>\n",
       "    <tr>\n",
       "      <th>date</th>\n",
       "      <th></th>\n",
       "    </tr>\n",
       "  </thead>\n",
       "  <tbody>\n",
       "    <tr>\n",
       "      <th>1983-05-08</th>\n",
       "      <td>1645.17000</td>\n",
       "    </tr>\n",
       "    <tr>\n",
       "      <th>1983-05-15</th>\n",
       "      <td>1650.48025</td>\n",
       "    </tr>\n",
       "    <tr>\n",
       "      <th>1983-05-22</th>\n",
       "      <td>1650.48025</td>\n",
       "    </tr>\n",
       "    <tr>\n",
       "      <th>1983-05-29</th>\n",
       "      <td>1650.48025</td>\n",
       "    </tr>\n",
       "    <tr>\n",
       "      <th>1983-06-05</th>\n",
       "      <td>1638.08600</td>\n",
       "    </tr>\n",
       "  </tbody>\n",
       "</table>\n",
       "</div>"
      ],
      "text/plain": [
       "                   CH4\n",
       "date                  \n",
       "1983-05-08  1645.17000\n",
       "1983-05-15  1650.48025\n",
       "1983-05-22  1650.48025\n",
       "1983-05-29  1650.48025\n",
       "1983-06-05  1638.08600"
      ]
     },
     "execution_count": 3,
     "metadata": {},
     "output_type": "execute_result"
    }
   ],
   "source": [
    "CH4_preprocessed.head()"
   ]
  },
  {
   "cell_type": "code",
   "execution_count": 4,
   "id": "1442566c-5fd0-4422-aa65-aa4b7e51d127",
   "metadata": {},
   "outputs": [
    {
     "data": {
      "text/html": [
       "<div>\n",
       "<style scoped>\n",
       "    .dataframe tbody tr th:only-of-type {\n",
       "        vertical-align: middle;\n",
       "    }\n",
       "\n",
       "    .dataframe tbody tr th {\n",
       "        vertical-align: top;\n",
       "    }\n",
       "\n",
       "    .dataframe thead th {\n",
       "        text-align: right;\n",
       "    }\n",
       "</style>\n",
       "<table border=\"1\" class=\"dataframe\">\n",
       "  <thead>\n",
       "    <tr style=\"text-align: right;\">\n",
       "      <th></th>\n",
       "      <th>CH4</th>\n",
       "    </tr>\n",
       "    <tr>\n",
       "      <th>date</th>\n",
       "      <th></th>\n",
       "    </tr>\n",
       "  </thead>\n",
       "  <tbody>\n",
       "    <tr>\n",
       "      <th>2025-03-09</th>\n",
       "      <td>1949.448</td>\n",
       "    </tr>\n",
       "    <tr>\n",
       "      <th>2025-03-16</th>\n",
       "      <td>1949.266</td>\n",
       "    </tr>\n",
       "    <tr>\n",
       "      <th>2025-03-23</th>\n",
       "      <td>1949.084</td>\n",
       "    </tr>\n",
       "    <tr>\n",
       "      <th>2025-03-30</th>\n",
       "      <td>1948.902</td>\n",
       "    </tr>\n",
       "    <tr>\n",
       "      <th>2025-04-06</th>\n",
       "      <td>1948.720</td>\n",
       "    </tr>\n",
       "  </tbody>\n",
       "</table>\n",
       "</div>"
      ],
      "text/plain": [
       "                 CH4\n",
       "date                \n",
       "2025-03-09  1949.448\n",
       "2025-03-16  1949.266\n",
       "2025-03-23  1949.084\n",
       "2025-03-30  1948.902\n",
       "2025-04-06  1948.720"
      ]
     },
     "execution_count": 4,
     "metadata": {},
     "output_type": "execute_result"
    }
   ],
   "source": [
    "CH4_preprocessed.tail()"
   ]
  },
  {
   "cell_type": "code",
   "execution_count": 5,
   "id": "08764c66-cd0b-41f1-9254-a64986aad3b4",
   "metadata": {},
   "outputs": [
    {
     "data": {
      "text/html": [
       "<div>\n",
       "<style scoped>\n",
       "    .dataframe tbody tr th:only-of-type {\n",
       "        vertical-align: middle;\n",
       "    }\n",
       "\n",
       "    .dataframe tbody tr th {\n",
       "        vertical-align: top;\n",
       "    }\n",
       "\n",
       "    .dataframe thead th {\n",
       "        text-align: right;\n",
       "    }\n",
       "</style>\n",
       "<table border=\"1\" class=\"dataframe\">\n",
       "  <thead>\n",
       "    <tr style=\"text-align: right;\">\n",
       "      <th></th>\n",
       "      <th>CH4</th>\n",
       "    </tr>\n",
       "    <tr>\n",
       "      <th>date</th>\n",
       "      <th></th>\n",
       "    </tr>\n",
       "  </thead>\n",
       "  <tbody>\n",
       "    <tr>\n",
       "      <th>1983-05-08</th>\n",
       "      <td>7.405599</td>\n",
       "    </tr>\n",
       "    <tr>\n",
       "      <th>1983-05-15</th>\n",
       "      <td>7.408822</td>\n",
       "    </tr>\n",
       "    <tr>\n",
       "      <th>1983-05-22</th>\n",
       "      <td>7.408822</td>\n",
       "    </tr>\n",
       "    <tr>\n",
       "      <th>1983-05-29</th>\n",
       "      <td>7.408822</td>\n",
       "    </tr>\n",
       "    <tr>\n",
       "      <th>1983-06-05</th>\n",
       "      <td>7.401284</td>\n",
       "    </tr>\n",
       "  </tbody>\n",
       "</table>\n",
       "</div>"
      ],
      "text/plain": [
       "                 CH4\n",
       "date                \n",
       "1983-05-08  7.405599\n",
       "1983-05-15  7.408822\n",
       "1983-05-22  7.408822\n",
       "1983-05-29  7.408822\n",
       "1983-06-05  7.401284"
      ]
     },
     "execution_count": 5,
     "metadata": {},
     "output_type": "execute_result"
    }
   ],
   "source": [
    "CH4_preprocessed_logged.head()"
   ]
  },
  {
   "cell_type": "code",
   "execution_count": 6,
   "id": "087b0665-d615-4509-9e61-d221381b5c10",
   "metadata": {},
   "outputs": [
    {
     "data": {
      "text/html": [
       "<div>\n",
       "<style scoped>\n",
       "    .dataframe tbody tr th:only-of-type {\n",
       "        vertical-align: middle;\n",
       "    }\n",
       "\n",
       "    .dataframe tbody tr th {\n",
       "        vertical-align: top;\n",
       "    }\n",
       "\n",
       "    .dataframe thead th {\n",
       "        text-align: right;\n",
       "    }\n",
       "</style>\n",
       "<table border=\"1\" class=\"dataframe\">\n",
       "  <thead>\n",
       "    <tr style=\"text-align: right;\">\n",
       "      <th></th>\n",
       "      <th>CH4</th>\n",
       "    </tr>\n",
       "    <tr>\n",
       "      <th>date</th>\n",
       "      <th></th>\n",
       "    </tr>\n",
       "  </thead>\n",
       "  <tbody>\n",
       "    <tr>\n",
       "      <th>2025-03-09</th>\n",
       "      <td>7.575302</td>\n",
       "    </tr>\n",
       "    <tr>\n",
       "      <th>2025-03-16</th>\n",
       "      <td>7.575208</td>\n",
       "    </tr>\n",
       "    <tr>\n",
       "      <th>2025-03-23</th>\n",
       "      <td>7.575115</td>\n",
       "    </tr>\n",
       "    <tr>\n",
       "      <th>2025-03-30</th>\n",
       "      <td>7.575021</td>\n",
       "    </tr>\n",
       "    <tr>\n",
       "      <th>2025-04-06</th>\n",
       "      <td>7.574928</td>\n",
       "    </tr>\n",
       "  </tbody>\n",
       "</table>\n",
       "</div>"
      ],
      "text/plain": [
       "                 CH4\n",
       "date                \n",
       "2025-03-09  7.575302\n",
       "2025-03-16  7.575208\n",
       "2025-03-23  7.575115\n",
       "2025-03-30  7.575021\n",
       "2025-04-06  7.574928"
      ]
     },
     "execution_count": 6,
     "metadata": {},
     "output_type": "execute_result"
    }
   ],
   "source": [
    "CH4_preprocessed_logged.tail()"
   ]
  },
  {
   "cell_type": "markdown",
   "id": "91d03812-a2b9-42e6-ad21-53804cc22389",
   "metadata": {},
   "source": [
    "# Load the model configuration and re-fit model"
   ]
  },
  {
   "cell_type": "code",
   "execution_count": 7,
   "id": "db7d42f8-db95-4499-9c78-2efe8d31eb35",
   "metadata": {},
   "outputs": [],
   "source": [
    "import json\n",
    "\n",
    "with open('../results/CH4_full_dataset_best_model_config.json', 'r') as f:\n",
    "    config = json.load(f)"
   ]
  },
  {
   "cell_type": "code",
   "execution_count": 8,
   "id": "9f249646-4a48-4929-8336-87bdbc92ff3c",
   "metadata": {},
   "outputs": [
    {
     "name": "stderr",
     "output_type": "stream",
     "text": [
      "C:\\Users\\aplor\\anaconda3\\envs\\NewEnv\\Lib\\site-packages\\statsmodels\\base\\model.py:607: ConvergenceWarning: Maximum Likelihood optimization failed to converge. Check mle_retvals\n",
      "  warnings.warn(\"Maximum Likelihood optimization failed to \"\n"
     ]
    },
    {
     "name": "stdout",
     "output_type": "stream",
     "text": [
      "Model re-fitted using data from 1983-05-08 to 2025-04-06\n"
     ]
    }
   ],
   "source": [
    "# Rebuild and re-fit model\n",
    "model = SARIMAX(\n",
    "    CH4_preprocessed_logged,\n",
    "    order=config['order'],\n",
    "    seasonal_order=config['seasonal_order'],\n",
    "    trend=config.get('trend', 'n'),\n",
    "    enforce_stationarity=config.get('enforce_stationarity', False),\n",
    "    enforce_invertibility=config.get('enforce_invertibility', False)\n",
    ")\n",
    "\n",
    "CH4_model_results = model.fit(method=config['fit_method'])\n",
    "\n",
    "print(f\"Model re-fitted using data from {config['training_date_range']['start']} to {config['training_date_range']['end']}\")"
   ]
  },
  {
   "cell_type": "code",
   "execution_count": 9,
   "id": "cbecca99-6e3e-48d2-af95-431e6d8ae4ec",
   "metadata": {},
   "outputs": [
    {
     "name": "stdout",
     "output_type": "stream",
     "text": [
      "\"CH4_best_sarima\": SARIMA(1,1,0)(1,0,2)[52]\n",
      "Order (p, d, q): (1, 1, 0)\n",
      "Seasonal order (P, D, Q, s): (1, 0, 2, 52)\n"
     ]
    }
   ],
   "source": [
    "# verify the model order and seasonal order\n",
    "print('\"CH4_best_sarima\": SARIMA(1,1,0)(1,0,2)[52]')\n",
    "print('Order (p, d, q):', model.order)\n",
    "print('Seasonal order (P, D, Q, s):', model.seasonal_order)"
   ]
  },
  {
   "cell_type": "markdown",
   "id": "6898a1a7",
   "metadata": {},
   "source": [
    "# Rolling forecast CH4 concentration for future periods"
   ]
  },
  {
   "cell_type": "code",
   "execution_count": 13,
   "id": "be80e4f2",
   "metadata": {},
   "outputs": [
    {
     "name": "stderr",
     "output_type": "stream",
     "text": [
      "Generating 13-week forecast: 100%|██████████| 13/13 [35:50<00:00, 165.40s/it]"
     ]
    },
    {
     "name": "stdout",
     "output_type": "stream",
     "text": [
      "\n",
      "Successfully completed rolling forecast\n",
      "2025-06-08    1946.982170\n",
      "2025-06-15    1946.972531\n",
      "2025-06-22    1947.621476\n",
      "2025-06-29    1947.476817\n",
      "2025-07-06    1946.976847\n",
      "Name: CH4_forecast, dtype: float64\n"
     ]
    },
    {
     "name": "stderr",
     "output_type": "stream",
     "text": [
      "\n"
     ]
    }
   ],
   "source": [
    "from tqdm import tqdm # for progress bars\n",
    "import warnings\n",
    "\n",
    "# Initialize variables\n",
    "n_weeks = 13\n",
    "rolling_forecasts = []\n",
    "rolling_conf_ints = []\n",
    "history = CH4_preprocessed_logged.iloc[:, 0].copy() if CH4_preprocessed_logged.ndim > 1 else CH4_preprocessed_logged.copy()\n",
    "history = history.asfreq('W-SUN')\n",
    "\n",
    "# Rolling forecast loop\n",
    "for t in tqdm(range(n_weeks), desc='Generating 13-week forecast'):\n",
    "    try:\n",
    "        # Fit the model on the current history (suppress warnings)\n",
    "        with warnings.catch_warnings():\n",
    "            warnings.simplefilter('ignore')\n",
    "            model = SARIMAX(\n",
    "                history, \n",
    "                order=config['order'], \n",
    "                seasonal_order=config['seasonal_order'],\n",
    "                trend=config.get('trend', 'n'),\n",
    "                enforce_stationarity=config.get('enforce_stationarity', False),\n",
    "                enforce_invertibility=config.get('enforce_invertibility', False)\n",
    "            )\n",
    "            model_fit = model.fit(method=config['fit_method'], disp=False)\n",
    "    \n",
    "        # Forecast one step (one week) ahead\n",
    "        forecast = model_fit.get_forecast(steps=1)\n",
    "        next_date = history.index[-1] + pd.Timedelta(weeks=1)\n",
    "\n",
    "        # store the results \n",
    "        rolling_forecasts.append(\n",
    "            pd.Series(\n",
    "                np.exp(forecast.predicted_mean.iloc[0]),\n",
    "                index=[next_date],\n",
    "                name='CH4_forecast'\n",
    "            )\n",
    "        )\n",
    "        rolling_conf_ints.append(\n",
    "            pd.DataFrame(\n",
    "                np.exp(forecast.conf_int().values),\n",
    "                columns=['lower', 'upper'],\n",
    "                index=[next_date]\n",
    "            )\n",
    "        )\n",
    "\n",
    "        # update history with forecasted value (ensure that it remains 1D)\n",
    "        new_value = pd.Series(\n",
    "            forecast.predicted_mean.iloc[0],\n",
    "            index=[next_date],\n",
    "            name=history.name\n",
    "        )\n",
    "        history = pd.concat([history, new_value]).asfreq('W-SUN')\n",
    "\n",
    "    except Exception as e:\n",
    "        print(f'Error at week {t}: {str(e)}')\n",
    "        break\n",
    "\n",
    "# combine results\n",
    "rolling_forecast = pd.concat(rolling_forecasts)\n",
    "rolling_conf_int = pd.concat(rolling_conf_ints)\n",
    "\n",
    "# save the results\n",
    "rolling_forecast.to_csv('../results/13week_rolling_forecast.csv')\n",
    "rolling_conf_int.to_csv('../results/13_week_rolling_conf_int.csv')\n",
    "\n",
    "print(f'\\nSuccessfully completed rolling forecast')\n",
    "print(rolling_forecast.tail())"
   ]
  },
  {
   "cell_type": "code",
   "execution_count": 15,
   "id": "5c05701b",
   "metadata": {},
   "outputs": [
    {
     "data": {
      "image/png": "[encoded data removed]",
      "text/plain": [
       "<Figure size 1000x600 with 1 Axes>"
      ]
     },
     "metadata": {},
     "output_type": "display_data"
    }
   ],
   "source": [
    "# visualize the forecast results\n",
    "\n",
    "cutoff_date = pd.Timestamp('2024-01-01')\n",
    "CH4_preprocessed_2024 = CH4_preprocessed[CH4_preprocessed.index >= cutoff_date]\n",
    "\n",
    "plt.figure(figsize=(10,6))\n",
    "plt.plot(CH4_preprocessed_2024.index, CH4_preprocessed_2024, label='CH4 Concentration')\n",
    "plt.plot(rolling_forecast.index, rolling_forecast.values, label='Forecasted Concentration')\n",
    "plt.fill_between(\n",
    "    rolling_forecast.index, \n",
    "    rolling_conf_int.iloc[:, 0], \n",
    "    rolling_conf_int.iloc[:, 1], \n",
    "    color='lightblue', \n",
    "    alpha=0.5, \n",
    "    label='95% CI'\n",
    ")\n",
    "plt.title('13-Week Rolling Forecast of CH4 Concentration')\n",
    "plt.xlabel('Date')\n",
    "plt.ylabel('[CH4] ppb')\n",
    "plt.legend()\n",
    "plt.show()"
   ]
  },
  {
   "cell_type": "code",
   "execution_count": 17,
   "id": "c38db695-6a1d-4051-8fa0-fbeeab5bdfe6",
   "metadata": {},
   "outputs": [
    {
     "name": "stdout",
     "output_type": "stream",
     "text": [
      "Index(['lower', 'upper'], dtype='object')\n"
     ]
    }
   ],
   "source": [
    "print(rolling_conf_int.columns)"
   ]
  },
  {
   "cell_type": "code",
   "execution_count": 18,
   "id": "fc718186",
   "metadata": {},
   "outputs": [
    {
     "name": "stdout",
     "output_type": "stream",
     "text": [
      "Rolling 13-Week Forecast Data Table for [CH4]ppb\n",
      "\n",
      "                 Date  Forecast Mean  Lower CI  Upper CI\n",
      "2025-04-13 2025-04-13       1948.551  1938.695  1958.456\n",
      "2025-04-20 2025-04-20       1948.586  1938.735  1958.486\n",
      "2025-04-27 2025-04-27       1948.473  1938.695  1958.301\n",
      "2025-05-04 2025-05-04       1948.554  1938.816  1958.341\n",
      "2025-05-11 2025-05-11       1947.080  1937.285  1956.924\n",
      "2025-05-18 2025-05-18       1946.985  1936.678  1957.346\n",
      "2025-05-25 2025-05-25       1947.155  1937.334  1957.027\n",
      "2025-06-01 2025-06-01       1947.131  1937.312  1957.000\n",
      "2025-06-08 2025-06-08       1946.982  1936.075  1957.951\n",
      "2025-06-15 2025-06-15       1946.973  1937.146  1956.849\n",
      "2025-06-22 2025-06-22       1947.621  1937.794  1957.499\n",
      "2025-06-29 2025-06-29       1947.477  1937.662  1957.342\n",
      "2025-07-06 2025-07-06       1946.977  1937.158  1956.846\n"
     ]
    }
   ],
   "source": [
    "print('Rolling 13-Week Forecast Data Table for [CH4]ppb\\n')\n",
    "\n",
    "static_forecast_table = pd.DataFrame({\n",
    "    'Date': rolling_forecast.index,\n",
    "    'Forecast Mean': rolling_forecast.values,\n",
    "    'Lower CI': rolling_conf_int['lower'],\n",
    "    'Upper CI': rolling_conf_int['upper']\n",
    "})\n",
    "\n",
    "# format the numbers\n",
    "static_forecast_table[['Forecast Mean', 'Lower CI', 'Upper CI']] = (\n",
    "    static_forecast_table[['Forecast Mean', 'Lower CI', 'Upper CI']].round(3)\n",
    ")\n",
    "\n",
    "print(static_forecast_table)"
   ]
  },
  {
   "cell_type": "code",
   "execution_count": null,
   "id": "fb723d8c-c34e-4048-b9c4-c04a14d845e3",
   "metadata": {},
   "outputs": [],
   "source": []
  }
 ],
 "metadata": {
  "kernelspec": {
   "display_name": "Python 3 (ipykernel)",
   "language": "python",
   "name": "python3"
  },
  "language_info": {
   "codemirror_mode": {
    "name": "ipython",
    "version": 3
   },
   "file_extension": ".py",
   "mimetype": "text/x-python",
   "name": "python",
   "nbconvert_exporter": "python",
   "pygments_lexer": "ipython3",
   "version": "3.12.3"
  }
 },
 "nbformat": 4,
 "nbformat_minor": 5
}
