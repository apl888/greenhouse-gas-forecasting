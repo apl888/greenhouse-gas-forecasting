{
 "cells": [
  {
   "cell_type": "markdown",
   "id": "44ba17f5-7cbc-41b2-a365-0da99a2530ab",
   "metadata": {
    "jp-MarkdownHeadingCollapsed": true
   },
   "source": [
    "# Greenhouse Gas Concentration Analysis  \n",
    "**Data Source**:  \n",
    "NOAA Global Monitoring Laboratory ([gml.noaa.gov](https://gml.noaa.gov/data/data.php?site=MLO&category=Greenhouse%2BGases))  \n",
    "\n",
    "## Datasets  \n",
    "| Gas | Measurement Type | URL | Units |  \n",
    "|------|------------------|-----|-------|  \n",
    "| CO2 (Carbon Dioxide) | Surface Flask | [Link](https://gml.noaa.gov/aftp/data/trace_gases/co2/flask/surface/txt/co2_mlo_surface-flask_1_ccgg_event.txt) | ppm (μmol/mol) | \n",
    "| CH4 (Methane) | Surface Flask | [Link](https://gml.noaa.gov/aftp/data/trace_gases/ch4/flask/surface/txt/ch4_mlo_surface-flask_1_ccgg_event.txt) | ppb (nmol/mol) |  \n",
    "| N2O (Nitrous Oxide) | Surface Flask | [Link](https://gml.noaa.gov/aftp/data/trace_gases/n2o/flask/surface/txt/n2o_mlo_surface-flask_1_ccgg_event.txt) | ppb (nmol/mol) |  \n",
    "| CO (Carbon Monoxide) | Surface Flask | [Link](https://gml.noaa.gov/aftp/data/trace_gases/co/flask/surface/txt/co_mlo_surface-flask_1_ccgg_event.txt) | ppb (nmol/mol) |  \n",
    "| H2 (Hydrogen) | Surface Flask | [Link](https://gml.noaa.gov/aftp/data/trace_gases/h2/flask/surface/txt/h2_mlo_surface-flask_1_ccgg_event.txt) | ppb (nmol/mol) | \n",
    "| SF6 (Sulfur Hexafluoride) | Surface Flask | [Link](https://gml.noaa.gov/aftp/data/trace_gases/sf6/flask/surface/txt/sf6_mlo_surface-flask_1_ccgg_event.txt) | ppt (pmol/mol) |\n",
    "\n",
    "## Key Notes  \n",
    "- **`date` column**: datetime information in datetime64[ns] with dropped timezone info.\n",
    "- **`value` column**: Gas concentration in dry air:  \n",
    "  - CO2: ppm (μmol/mol)  \n",
    "  - CH4/N2O/CO/H2: ppb (nmol/mol)  \n",
    "  - SF6: ppt (pmol/mol)  \n",
    "- **Missing data**: Coded as `-999.999`.  \n",
    "- **Focus gas**: The combined dataset contains features for 6 greenhouse gases, but the full analysis focuses on **CH4 (methane)**.\n",
    "- **Non-Greenhouse Gases**: CO (carbon monoxide) and H2 (hydrogen) are not greenhouse gases, as they do not absorb infrared radiation. They are included here because of their indirect influence on greenhouse gas dynamics (e.g., CO and H2 affect atmospheric chemistry and methane lifetime), but they are not modeled or forecast in this analysis.\n",
    "- **Dataset**: The combined dataset containing \"datetime\" and \"value\" features for 6 greenhouse gases will be saved as \"all_ghg_aligned.csv\"."
   ]
  },
  {
   "cell_type": "markdown",
   "id": "9941da02-d2b1-4ea5-bbb9-bf0b798ee130",
   "metadata": {},
   "source": [
    "# Libraries"
   ]
  },
  {
   "cell_type": "code",
   "execution_count": 1,
   "id": "8574bbce-9156-41d6-9eed-adeeb77e4732",
   "metadata": {},
   "outputs": [],
   "source": [
    "import pandas as pd\n",
    "from pathlib import Path\n",
    "import os"
   ]
  },
  {
   "cell_type": "markdown",
   "id": "0a754fc0-113e-473b-b977-8a13be691b38",
   "metadata": {},
   "source": [
    "# Make Directories"
   ]
  },
  {
   "cell_type": "code",
   "execution_count": 2,
   "id": "10ded3d8-5a0c-4346-a9e3-e4742518136c",
   "metadata": {},
   "outputs": [],
   "source": [
    "output_dir = Path('data/processed')\n",
    "output_dir.mkdir(parents=True, exist_ok=True)"
   ]
  },
  {
   "cell_type": "markdown",
   "id": "6e2a7097-2fd5-4bd8-98eb-4c45fba70bf0",
   "metadata": {},
   "source": [
    "# Load Datasets and Save CSV"
   ]
  },
  {
   "cell_type": "code",
   "execution_count": 3,
   "id": "887ff68e-9c84-4683-81cf-65c73f6ddfaf",
   "metadata": {},
   "outputs": [
    {
     "data": {
      "text/html": [
       "<div>\n",
       "<style scoped>\n",
       "    .dataframe tbody tr th:only-of-type {\n",
       "        vertical-align: middle;\n",
       "    }\n",
       "\n",
       "    .dataframe tbody tr th {\n",
       "        vertical-align: top;\n",
       "    }\n",
       "\n",
       "    .dataframe thead th {\n",
       "        text-align: right;\n",
       "    }\n",
       "</style>\n",
       "<table border=\"1\" class=\"dataframe\">\n",
       "  <thead>\n",
       "    <tr style=\"text-align: right;\">\n",
       "      <th>gas</th>\n",
       "      <th>date</th>\n",
       "      <th>CH4</th>\n",
       "      <th>CO</th>\n",
       "      <th>CO2</th>\n",
       "      <th>H2</th>\n",
       "      <th>N2O</th>\n",
       "      <th>SF6</th>\n",
       "    </tr>\n",
       "  </thead>\n",
       "  <tbody>\n",
       "    <tr>\n",
       "      <th>0</th>\n",
       "      <td>1969-08-20</td>\n",
       "      <td>NaN</td>\n",
       "      <td>NaN</td>\n",
       "      <td>-5.2700</td>\n",
       "      <td>NaN</td>\n",
       "      <td>NaN</td>\n",
       "      <td>NaN</td>\n",
       "    </tr>\n",
       "    <tr>\n",
       "      <th>1</th>\n",
       "      <td>1969-08-27</td>\n",
       "      <td>NaN</td>\n",
       "      <td>NaN</td>\n",
       "      <td>-2.1625</td>\n",
       "      <td>NaN</td>\n",
       "      <td>NaN</td>\n",
       "      <td>NaN</td>\n",
       "    </tr>\n",
       "    <tr>\n",
       "      <th>2</th>\n",
       "      <td>1969-09-02</td>\n",
       "      <td>NaN</td>\n",
       "      <td>NaN</td>\n",
       "      <td>-9.1150</td>\n",
       "      <td>NaN</td>\n",
       "      <td>NaN</td>\n",
       "      <td>NaN</td>\n",
       "    </tr>\n",
       "    <tr>\n",
       "      <th>3</th>\n",
       "      <td>1969-09-12</td>\n",
       "      <td>NaN</td>\n",
       "      <td>NaN</td>\n",
       "      <td>320.9450</td>\n",
       "      <td>NaN</td>\n",
       "      <td>NaN</td>\n",
       "      <td>NaN</td>\n",
       "    </tr>\n",
       "    <tr>\n",
       "      <th>4</th>\n",
       "      <td>1969-09-24</td>\n",
       "      <td>NaN</td>\n",
       "      <td>NaN</td>\n",
       "      <td>320.8900</td>\n",
       "      <td>NaN</td>\n",
       "      <td>NaN</td>\n",
       "      <td>NaN</td>\n",
       "    </tr>\n",
       "  </tbody>\n",
       "</table>\n",
       "</div>"
      ],
      "text/plain": [
       "gas       date  CH4  CO       CO2  H2  N2O  SF6\n",
       "0   1969-08-20  NaN NaN   -5.2700 NaN  NaN  NaN\n",
       "1   1969-08-27  NaN NaN   -2.1625 NaN  NaN  NaN\n",
       "2   1969-09-02  NaN NaN   -9.1150 NaN  NaN  NaN\n",
       "3   1969-09-12  NaN NaN  320.9450 NaN  NaN  NaN\n",
       "4   1969-09-24  NaN NaN  320.8900 NaN  NaN  NaN"
      ]
     },
     "execution_count": 3,
     "metadata": {},
     "output_type": "execute_result"
    }
   ],
   "source": [
    "# define dataset URLs\n",
    "datasets = {\n",
    "    'CH4': 'https://gml.noaa.gov/aftp/data/trace_gases/ch4/flask/surface/txt/ch4_mlo_surface-flask_1_ccgg_event.txt',\n",
    "    'N2O': 'https://gml.noaa.gov/aftp/data/trace_gases/n2o/flask/surface/txt/n2o_mlo_surface-flask_1_ccgg_event.txt',\n",
    "    'SF6': 'https://gml.noaa.gov/aftp/data/trace_gases/sf6/flask/surface/txt/sf6_mlo_surface-flask_1_ccgg_event.txt',\n",
    "    'CO2': 'https://gml.noaa.gov/aftp/data/trace_gases/co2/flask/surface/txt/co2_mlo_surface-flask_1_ccgg_event.txt',\n",
    "    'CO': 'https://gml.noaa.gov/aftp/data/trace_gases/co/flask/surface/txt/co_mlo_surface-flask_1_ccgg_event.txt',\n",
    "    'H2': 'https://gml.noaa.gov/aftp/data/trace_gases/h2/flask/surface/txt/h2_mlo_surface-flask_1_ccgg_event.txt'\n",
    "}\n",
    "# Note: all datasets have the same features, excpet that CO lacks the \"value_unc\" feature.  This difference won't affect the \n",
    "# analysis since the only features that will be used are datetime and value (gas concentration).  \n",
    "\n",
    "# function to load the raw datasets, keeping only datetime and value columns  \n",
    "def load_gas_data(url, gas_type):\n",
    "    df = pd.read_csv(url, sep=r'\\s+', comment='#', header=0)\n",
    "\n",
    "    # select features/columns\n",
    "    cols_to_keep = ['datetime', 'value']\n",
    "    df = df[cols_to_keep]\n",
    "\n",
    "    # convert datetime column to date, without time info \n",
    "    df['date'] = pd.to_datetime(df['datetime']).dt.tz_localize(None).dt.normalize()\n",
    "    df.drop(columns=['datetime'], inplace=True)\n",
    "    \n",
    "    # add a feature/column for gas type\n",
    "    df['gas'] = gas_type\n",
    "\n",
    "    return df\n",
    "\n",
    "# load all datasets\n",
    "df_list = [load_gas_data(url, gas) for gas, url in datasets.items()]\n",
    "\n",
    "# concatenate all sets into a single dataframe\n",
    "df_all = pd.concat(df_list)\n",
    "\n",
    "# align data based on date (from datetime)\n",
    "df_combined = df_all.pivot_table(index='date', columns='gas', values='value')\n",
    "\n",
    "# reset the index\n",
    "df_combined.reset_index(inplace=True)\n",
    "\n",
    "# save a copy to csv\n",
    "df_combined.to_csv(output_dir / 'all_ghg_aligned.csv', index=False)\n",
    "\n",
    "df_combined.head()"
   ]
  },
  {
   "cell_type": "code",
   "execution_count": null,
   "id": "0d2028f7-2bb3-438b-9ec7-9c90c096468b",
   "metadata": {},
   "outputs": [],
   "source": []
  }
 ],
 "metadata": {
  "kernelspec": {
   "display_name": "Python 3 (ipykernel)",
   "language": "python",
   "name": "python3"
  },
  "language_info": {
   "codemirror_mode": {
    "name": "ipython",
    "version": 3
   },
   "file_extension": ".py",
   "mimetype": "text/x-python",
   "name": "python",
   "nbconvert_exporter": "python",
   "pygments_lexer": "ipython3",
   "version": "3.12.3"
  }
 },
 "nbformat": 4,
 "nbformat_minor": 5
}
