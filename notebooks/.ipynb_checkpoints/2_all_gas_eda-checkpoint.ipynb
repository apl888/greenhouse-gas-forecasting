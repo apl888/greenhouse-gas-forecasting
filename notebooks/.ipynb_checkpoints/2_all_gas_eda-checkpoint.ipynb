{
 "cells": [
  {
   "cell_type": "markdown",
   "id": "44ba17f5-7cbc-41b2-a365-0da99a2530ab",
   "metadata": {},
   "source": [
    "# Exploratory Data Analysis: Greenhouse Gases  \n",
    "**Data Source**: Processed NOAA data (cleaned in `1_data_loading.ipynb`)  \n",
    "\n",
    "## Dataset Overview  \n",
    "| Gas | Unit | # Observations | Time Range |  \n",
    "|------|------|---------------|------------|  \n",
    "| CO2 (Carbon Dioxide) | ppm | `df[df['gas']=='CO2'].shape[0]` | `df[df['gas']=='CO2']['date'].min()` to `max()` |  \n",
    "| CH4 (Methane) | ppb | `df[df['gas']=='CH4'].shape[0]` | `df[df['gas']=='CH4']['date'].min()` to `max()` |  \n",
    "| N2O (Nitrous Oxide) | ppb | `df[df['gas']=='N2O'].shape[0]` | `df[df['gas']=='N2O']['date'].min()` to `max()` |  \n",
    "| CO (Carbon Monoxide) | ppb | `df[df['gas']=='CO'].shape[0]` | `df[df['gas']=='CO']['date'].min()` to `max()` |  \n",
    "| H2 (Hydrogen) | ppb | `df[df['gas']=='H2'].shape[0]` | `df[df['gas']=='H2']['date'].min()` to `max()` |  \n",
    "| SF6 (Sulfur Hexaflouride) | ppt | `df[df['gas']=='SF6'].shape[0]` | `df[df['gas']=='SF6']['date'].min()` to `max()` |  \n",
    "\n",
    "## Key Notes  \n",
    "- **Focus Gas**: CH4 (Methane) - primary analysis target  \n",
    "- **Data Quality**:  \n",
    "  - Missing values: all rows kept (missing values --> NaN)\n",
    "  - Negative values: converted to NaN  \n",
    "- Raw data sources and cleaning steps documented in [`1_data_loading.ipynb`](../notebooks/1_data_loading.ipynb).  "
   ]
  },
  {
   "cell_type": "markdown",
   "id": "9941da02-d2b1-4ea5-bbb9-bf0b798ee130",
   "metadata": {},
   "source": [
    "# Libraries"
   ]
  },
  {
   "cell_type": "code",
   "execution_count": 1,
   "id": "8574bbce-9156-41d6-9eed-adeeb77e4732",
   "metadata": {},
   "outputs": [],
   "source": [
    "import pandas as pd\n",
    "import matplotlib.pyplot as plt\n",
    "import seaborn as sns"
   ]
  },
  {
   "cell_type": "markdown",
   "id": "6e2a7097-2fd5-4bd8-98eb-4c45fba70bf0",
   "metadata": {},
   "source": [
    "# Load Data"
   ]
  },
  {
   "cell_type": "code",
   "execution_count": 10,
   "id": "887ff68e-9c84-4683-81cf-65c73f6ddfaf",
   "metadata": {},
   "outputs": [
    {
     "data": {
      "text/html": [
       "<div>\n",
       "<style scoped>\n",
       "    .dataframe tbody tr th:only-of-type {\n",
       "        vertical-align: middle;\n",
       "    }\n",
       "\n",
       "    .dataframe tbody tr th {\n",
       "        vertical-align: top;\n",
       "    }\n",
       "\n",
       "    .dataframe thead th {\n",
       "        text-align: right;\n",
       "    }\n",
       "</style>\n",
       "<table border=\"1\" class=\"dataframe\">\n",
       "  <thead>\n",
       "    <tr style=\"text-align: right;\">\n",
       "      <th>gas</th>\n",
       "      <th>date</th>\n",
       "      <th>CH4</th>\n",
       "      <th>CO</th>\n",
       "      <th>CO2</th>\n",
       "      <th>H2</th>\n",
       "      <th>N2O</th>\n",
       "      <th>SF6</th>\n",
       "    </tr>\n",
       "  </thead>\n",
       "  <tbody>\n",
       "    <tr>\n",
       "      <th>0</th>\n",
       "      <td>1969-08-20</td>\n",
       "      <td>NaN</td>\n",
       "      <td>NaN</td>\n",
       "      <td>-5.2700</td>\n",
       "      <td>NaN</td>\n",
       "      <td>NaN</td>\n",
       "      <td>NaN</td>\n",
       "    </tr>\n",
       "    <tr>\n",
       "      <th>1</th>\n",
       "      <td>1969-08-27</td>\n",
       "      <td>NaN</td>\n",
       "      <td>NaN</td>\n",
       "      <td>-2.1625</td>\n",
       "      <td>NaN</td>\n",
       "      <td>NaN</td>\n",
       "      <td>NaN</td>\n",
       "    </tr>\n",
       "    <tr>\n",
       "      <th>2</th>\n",
       "      <td>1969-09-02</td>\n",
       "      <td>NaN</td>\n",
       "      <td>NaN</td>\n",
       "      <td>-9.1150</td>\n",
       "      <td>NaN</td>\n",
       "      <td>NaN</td>\n",
       "      <td>NaN</td>\n",
       "    </tr>\n",
       "    <tr>\n",
       "      <th>3</th>\n",
       "      <td>1969-09-12</td>\n",
       "      <td>NaN</td>\n",
       "      <td>NaN</td>\n",
       "      <td>320.9450</td>\n",
       "      <td>NaN</td>\n",
       "      <td>NaN</td>\n",
       "      <td>NaN</td>\n",
       "    </tr>\n",
       "    <tr>\n",
       "      <th>4</th>\n",
       "      <td>1969-09-24</td>\n",
       "      <td>NaN</td>\n",
       "      <td>NaN</td>\n",
       "      <td>320.8900</td>\n",
       "      <td>NaN</td>\n",
       "      <td>NaN</td>\n",
       "      <td>NaN</td>\n",
       "    </tr>\n",
       "  </tbody>\n",
       "</table>\n",
       "</div>"
      ],
      "text/plain": [
       "gas       date  CH4  CO       CO2  H2  N2O  SF6\n",
       "0   1969-08-20  NaN NaN   -5.2700 NaN  NaN  NaN\n",
       "1   1969-08-27  NaN NaN   -2.1625 NaN  NaN  NaN\n",
       "2   1969-09-02  NaN NaN   -9.1150 NaN  NaN  NaN\n",
       "3   1969-09-12  NaN NaN  320.9450 NaN  NaN  NaN\n",
       "4   1969-09-24  NaN NaN  320.8900 NaN  NaN  NaN"
      ]
     },
     "execution_count": 10,
     "metadata": {},
     "output_type": "execute_result"
    }
   ],
   "source": [
    "# define dataset URLs\n",
    "datasets = {\n",
    "    'CH4': 'https://gml.noaa.gov/aftp/data/trace_gases/ch4/flask/surface/txt/ch4_mlo_surface-flask_1_ccgg_event.txt',\n",
    "    'N2O': 'https://gml.noaa.gov/aftp/data/trace_gases/n2o/flask/surface/txt/n2o_mlo_surface-flask_1_ccgg_event.txt',\n",
    "    'SF6': 'https://gml.noaa.gov/aftp/data/trace_gases/sf6/flask/surface/txt/sf6_mlo_surface-flask_1_ccgg_event.txt',\n",
    "    'CO2': 'https://gml.noaa.gov/aftp/data/trace_gases/co2/flask/surface/txt/co2_mlo_surface-flask_1_ccgg_event.txt',\n",
    "    'CO': 'https://gml.noaa.gov/aftp/data/trace_gases/co/flask/surface/txt/co_mlo_surface-flask_1_ccgg_event.txt',\n",
    "    'H2': 'https://gml.noaa.gov/aftp/data/trace_gases/h2/flask/surface/txt/h2_mlo_surface-flask_1_ccgg_event.txt'\n",
    "}\n",
    "# Note: all datasets have the same features, excpet CO, which lacks \"value_unc\".\n",
    "\n",
    "# function to load and clean the datasets\n",
    "# Load raw data, keeping only datetime and value columns  \n",
    "def load_gas_data(url, gas_type):\n",
    "    df = pd.read_csv(url, sep=r'\\s+', comment='#', header=0)\n",
    "\n",
    "    # select features/columns\n",
    "    cols_to_keep = ['datetime', 'value']\n",
    "    df = df[cols_to_keep]\n",
    "\n",
    "    # convert datetime column to date, without time info \n",
    "    df['date'] = pd.to_datetime(df['datetime']).dt.tz_localize(None).dt.normalize()\n",
    "    df.drop(columns=['datetime'], inplace=True)\n",
    "    \n",
    "    # add a feature/column for gas type\n",
    "    df['gas'] = gas_type\n",
    "\n",
    "    return df\n",
    "\n",
    "# load all datasets\n",
    "df_list = [load_gas_data(url, gas) for gas, url in datasets.items()]\n",
    "\n",
    "# concatenate all sets into a single dataframe\n",
    "df_all = pd.concat(df_list)\n",
    "\n",
    "# align data based on date (from datetime)\n",
    "df_combined = df_all.pivot_table(index='date', columns='gas', values='value')\n",
    "\n",
    "# reset the index\n",
    "df_combined.reset_index(inplace=True)\n",
    "\n",
    "# save a copy to csv\n",
    "df_combined.to_csv('all_ghg_aligned.csv', index=False)\n",
    "\n",
    "df_combined.head()"
   ]
  },
  {
   "cell_type": "markdown",
   "id": "87c96c59-939f-4f31-ab44-171785214324",
   "metadata": {},
   "source": [
    "# EDA "
   ]
  },
  {
   "cell_type": "markdown",
   "id": "9d1a90de-f9c6-493a-ab0d-2ee161a53fba",
   "metadata": {},
   "source": [
    "## Overview"
   ]
  },
  {
   "cell_type": "code",
   "execution_count": 8,
   "id": "0db95a5b-6d80-4434-8556-19532d0652a5",
   "metadata": {},
   "outputs": [
    {
     "data": {
      "text/html": [
       "<div>\n",
       "<style scoped>\n",
       "    .dataframe tbody tr th:only-of-type {\n",
       "        vertical-align: middle;\n",
       "    }\n",
       "\n",
       "    .dataframe tbody tr th {\n",
       "        vertical-align: top;\n",
       "    }\n",
       "\n",
       "    .dataframe thead th {\n",
       "        text-align: right;\n",
       "    }\n",
       "</style>\n",
       "<table border=\"1\" class=\"dataframe\">\n",
       "  <thead>\n",
       "    <tr style=\"text-align: right;\">\n",
       "      <th>gas</th>\n",
       "      <th>date</th>\n",
       "      <th>CH4</th>\n",
       "      <th>CO</th>\n",
       "      <th>CO2</th>\n",
       "      <th>H2</th>\n",
       "      <th>N2O</th>\n",
       "      <th>SF6</th>\n",
       "    </tr>\n",
       "  </thead>\n",
       "  <tbody>\n",
       "    <tr>\n",
       "      <th>count</th>\n",
       "      <td>2562</td>\n",
       "      <td>2131.000000</td>\n",
       "      <td>1825.000000</td>\n",
       "      <td>2561.000000</td>\n",
       "      <td>790.000000</td>\n",
       "      <td>1498.000000</td>\n",
       "      <td>1496.000000</td>\n",
       "    </tr>\n",
       "    <tr>\n",
       "      <th>mean</th>\n",
       "      <td>2000-04-04 02:32:19.110070400</td>\n",
       "      <td>1786.120962</td>\n",
       "      <td>91.608401</td>\n",
       "      <td>366.723396</td>\n",
       "      <td>543.061065</td>\n",
       "      <td>323.711850</td>\n",
       "      <td>6.416216</td>\n",
       "    </tr>\n",
       "    <tr>\n",
       "      <th>min</th>\n",
       "      <td>1969-08-20 00:00:00</td>\n",
       "      <td>-99.433333</td>\n",
       "      <td>-999.990000</td>\n",
       "      <td>-551.175667</td>\n",
       "      <td>226.026000</td>\n",
       "      <td>58.226000</td>\n",
       "      <td>-246.425000</td>\n",
       "    </tr>\n",
       "    <tr>\n",
       "      <th>25%</th>\n",
       "      <td>1987-10-24 18:00:00</td>\n",
       "      <td>1753.305000</td>\n",
       "      <td>77.117500</td>\n",
       "      <td>349.615000</td>\n",
       "      <td>535.398750</td>\n",
       "      <td>318.040625</td>\n",
       "      <td>5.290000</td>\n",
       "    </tr>\n",
       "    <tr>\n",
       "      <th>50%</th>\n",
       "      <td>2000-05-01 12:00:00</td>\n",
       "      <td>1791.180000</td>\n",
       "      <td>89.965000</td>\n",
       "      <td>370.000000</td>\n",
       "      <td>544.222500</td>\n",
       "      <td>323.672500</td>\n",
       "      <td>7.176250</td>\n",
       "    </tr>\n",
       "    <tr>\n",
       "      <th>75%</th>\n",
       "      <td>2012-08-27 18:00:00</td>\n",
       "      <td>1842.661250</td>\n",
       "      <td>105.540000</td>\n",
       "      <td>394.692500</td>\n",
       "      <td>553.233125</td>\n",
       "      <td>330.458125</td>\n",
       "      <td>9.492500</td>\n",
       "    </tr>\n",
       "    <tr>\n",
       "      <th>max</th>\n",
       "      <td>2025-04-03 00:00:00</td>\n",
       "      <td>1989.377500</td>\n",
       "      <td>248.642500</td>\n",
       "      <td>508.151750</td>\n",
       "      <td>596.360000</td>\n",
       "      <td>339.212500</td>\n",
       "      <td>12.345000</td>\n",
       "    </tr>\n",
       "    <tr>\n",
       "      <th>std</th>\n",
       "      <td>NaN</td>\n",
       "      <td>133.264558</td>\n",
       "      <td>46.026747</td>\n",
       "      <td>62.016673</td>\n",
       "      <td>23.384055</td>\n",
       "      <td>15.493204</td>\n",
       "      <td>14.933516</td>\n",
       "    </tr>\n",
       "  </tbody>\n",
       "</table>\n",
       "</div>"
      ],
      "text/plain": [
       "gas                             date          CH4           CO          CO2  \\\n",
       "count                           2562  2131.000000  1825.000000  2561.000000   \n",
       "mean   2000-04-04 02:32:19.110070400  1786.120962    91.608401   366.723396   \n",
       "min              1969-08-20 00:00:00   -99.433333  -999.990000  -551.175667   \n",
       "25%              1987-10-24 18:00:00  1753.305000    77.117500   349.615000   \n",
       "50%              2000-05-01 12:00:00  1791.180000    89.965000   370.000000   \n",
       "75%              2012-08-27 18:00:00  1842.661250   105.540000   394.692500   \n",
       "max              2025-04-03 00:00:00  1989.377500   248.642500   508.151750   \n",
       "std                              NaN   133.264558    46.026747    62.016673   \n",
       "\n",
       "gas            H2          N2O          SF6  \n",
       "count  790.000000  1498.000000  1496.000000  \n",
       "mean   543.061065   323.711850     6.416216  \n",
       "min    226.026000    58.226000  -246.425000  \n",
       "25%    535.398750   318.040625     5.290000  \n",
       "50%    544.222500   323.672500     7.176250  \n",
       "75%    553.233125   330.458125     9.492500  \n",
       "max    596.360000   339.212500    12.345000  \n",
       "std     23.384055    15.493204    14.933516  "
      ]
     },
     "execution_count": 8,
     "metadata": {},
     "output_type": "execute_result"
    }
   ],
   "source": [
    "df_combined.describe()"
   ]
  },
  {
   "cell_type": "markdown",
   "id": "2e81ce8b-1b03-4eb7-b8dd-d1f3174d2e71",
   "metadata": {},
   "source": [
    "## Datatypes"
   ]
  },
  {
   "cell_type": "code",
   "execution_count": 9,
   "id": "58ac239e-98c2-467c-b82b-29b0824357b2",
   "metadata": {},
   "outputs": [
    {
     "data": {
      "text/plain": [
       "gas\n",
       "date    datetime64[ns]\n",
       "CH4            float64\n",
       "CO             float64\n",
       "CO2            float64\n",
       "H2             float64\n",
       "N2O            float64\n",
       "SF6            float64\n",
       "dtype: object"
      ]
     },
     "execution_count": 9,
     "metadata": {},
     "output_type": "execute_result"
    }
   ],
   "source": [
    "df_combined.dtypes"
   ]
  },
  {
   "cell_type": "markdown",
   "id": "a2a6d98a-1b17-401d-8bad-c340203f6824",
   "metadata": {},
   "source": [
    "## Null Values"
   ]
  },
  {
   "cell_type": "code",
   "execution_count": null,
   "id": "b494ef0f-323e-42a9-92ab-f596e5f1f76a",
   "metadata": {},
   "outputs": [],
   "source": [
    "df_combined.isnull().sum()"
   ]
  },
  {
   "cell_type": "code",
   "execution_count": null,
   "id": "0b3d2f06-2d68-4986-afc5-8268fb9a4379",
   "metadata": {},
   "outputs": [],
   "source": [
    "# the fill values for 'values' is -999.999.  This is essentially the same as a null value.  \n",
    "# So, I will check on the number of fill values.  \n",
    "\n",
    "fillvalue_counts = (df_combined == -999.999).sum()\n",
    "fillvalue_counts"
   ]
  },
  {
   "cell_type": "markdown",
   "id": "44896607-3da9-491e-9b65-b00f4daab56a",
   "metadata": {},
   "source": [
    "Null (NaN) values are data points that were not collected or recorded. Many null values occur at the beginning of the timeseries for each gas, except CO2, since measurement of the other gases began after the first CO2 measurement. \n",
    "\n",
    "## measurement start dates:\n",
    "- CO2: 1969-8-20\n",
    "- CH4: 1983-5-6\n",
    "- CO: 1989-7-7\n",
    "- N2O: 1995-12-15\n",
    "- SF6: 1995-12-15\n",
    "\n",
    "I will not impute any null value that exist at dates earlier than the first measurement date for each gas."
   ]
  },
  {
   "cell_type": "markdown",
   "id": "1f5ef00f-b7e5-4ed5-9044-a0e32de1a0c6",
   "metadata": {},
   "source": [
    "## Negative Values"
   ]
  },
  {
   "cell_type": "code",
   "execution_count": null,
   "id": "620de706-136d-4201-8d45-254de7696061",
   "metadata": {},
   "outputs": [],
   "source": [
    "# There are some negative values for gas concentration.  This doesn't make physical sense. \n",
    "# One possible explanation is that the GC sensor was zeroed incorrectly. Either way, I will \n",
    "# likely set them to NaN.  First, inspect:\n",
    "\n",
    "neg_value_count = (df_combined.iloc[:,1:] < 0).sum()\n",
    "neg_value_count"
   ]
  },
  {
   "cell_type": "code",
   "execution_count": null,
   "id": "e8cef414-e63a-4190-b126-1c1746179a90",
   "metadata": {},
   "outputs": [],
   "source": [
    "# replace negative values with NaN\n",
    "\n",
    "df_combined.iloc[:,1:] = df_combined.iloc[:,1:].mask(df_combined.iloc[:,1:] < 0, np.nan)\n",
    "                          \n",
    "new_neg_count = (df_combined.iloc[:,1:] < 0).sum()\n",
    "new_neg_count"
   ]
  },
  {
   "cell_type": "markdown",
   "id": "fb017dec-895c-4086-9db3-1efc7bf75dd8",
   "metadata": {},
   "source": [
    "All NaN values that originate after the data collection start date will be imputed during preprocessing.  "
   ]
  },
  {
   "cell_type": "code",
   "execution_count": null,
   "id": "2d23fcae-bc83-4810-b503-106616599d40",
   "metadata": {},
   "outputs": [],
   "source": [
    "# Store new dateframe as CSV\n",
    "\n",
    "df_combined.to_csv('all_ghg_aligned_nan.csv', index=False)"
   ]
  },
  {
   "cell_type": "markdown",
   "id": "174bd601-45c8-4afe-8c18-afe9813f135f",
   "metadata": {},
   "source": [
    "## Data Distribution"
   ]
  },
  {
   "cell_type": "code",
   "execution_count": null,
   "id": "f270d9ec-4beb-40c3-8592-853ee920e48b",
   "metadata": {},
   "outputs": [],
   "source": [
    "# inspect the distribution and outliers of each dataset\n",
    "\n",
    "plt.figure(figsize=(12,8))\n",
    "sns.boxplot(data=df_combined.iloc[:,1:])\n",
    "plt.title('Boxplot of Gas Concentration')\n",
    "plt.ylabel('Gas Concentration')\n",
    "plt.xlabel('Gas Type')\n",
    "plt.show()"
   ]
  },
  {
   "cell_type": "markdown",
   "id": "36882024-4c8c-4694-99fd-91ad7f7c2630",
   "metadata": {},
   "source": [
    "## Data Frequency (per year)"
   ]
  },
  {
   "cell_type": "code",
   "execution_count": null,
   "id": "a742bf59-8c84-4910-9d15-da2ec90a290d",
   "metadata": {},
   "outputs": [],
   "source": [
    "# The seasonality appears as a single cycle per year for each gas. \n",
    "# Confirm the number of datapoints per year for each gas.\n",
    "\n",
    "df_counts = df_combined.copy()\n",
    "\n",
    "df_counts['year'] = df_counts['date'].dt.year # extract the year\n",
    "yearly_counts = df_counts.groupby('year').count()\n",
    "yearly_counts"
   ]
  },
  {
   "cell_type": "code",
   "execution_count": null,
   "id": "7b0857b4-167f-465f-a5b5-e73dfc930096",
   "metadata": {},
   "outputs": [],
   "source": [
    "# As expected, there is variation in the number of data points per year.  \n",
    "# I will determine and use the mode of each gas for signal decomposition, preprocessing, and modeling.\n",
    "\n",
    "seasonal_mode = yearly_counts.replace(0, np.nan).mode().iloc[0] \n",
    "seasonal_mode"
   ]
  }
 ],
 "metadata": {
  "kernelspec": {
   "display_name": "Python 3 (ipykernel)",
   "language": "python",
   "name": "python3"
  },
  "language_info": {
   "codemirror_mode": {
    "name": "ipython",
    "version": 3
   },
   "file_extension": ".py",
   "mimetype": "text/x-python",
   "name": "python",
   "nbconvert_exporter": "python",
   "pygments_lexer": "ipython3",
   "version": "3.12.3"
  }
 },
 "nbformat": 4,
 "nbformat_minor": 5
}
